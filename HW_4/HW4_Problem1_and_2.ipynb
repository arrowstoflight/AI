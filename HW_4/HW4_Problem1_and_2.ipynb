{
  "nbformat": 4,
  "nbformat_minor": 0,
  "metadata": {
    "colab": {
      "name": "HW4_Problem1_and_2.ipynb",
      "provenance": [],
      "collapsed_sections": [
        "rQGIRVp8BSPW",
        "j2Ygl9gTBYob",
        "2v9LjXkwTTn7",
        "fSGkruqcrHbN"
      ],
      "include_colab_link": true
    },
    "kernelspec": {
      "name": "python3",
      "display_name": "Python 3"
    },
    "accelerator": "GPU"
  },
  "cells": [
    {
      "cell_type": "markdown",
      "metadata": {
        "id": "view-in-github",
        "colab_type": "text"
      },
      "source": [
        "<a href=\"https://colab.research.google.com/github/arrowstoflight/AI/blob/master/HW_4/HW4_Problem1_and_2.ipynb\" target=\"_parent\"><img src=\"https://colab.research.google.com/assets/colab-badge.svg\" alt=\"Open In Colab\"/></a>"
      ]
    },
    {
      "cell_type": "markdown",
      "metadata": {
        "colab_type": "text",
        "id": "tKRYhFRUAlbU"
      },
      "source": [
        "Dustin White\n",
        "\n",
        "CAP4630 - Artificial Intelligence\n",
        "\n",
        "Professor Wocjan\n",
        "\n",
        "5 April 2020\n",
        "\n",
        "Homework 4\n"
      ]
    },
    {
      "cell_type": "markdown",
      "metadata": {
        "id": "rQGIRVp8BSPW",
        "colab_type": "text"
      },
      "source": [
        "# Problem 1\n"
      ]
    },
    {
      "cell_type": "markdown",
      "metadata": {
        "id": "UXMfzUO97HO8",
        "colab_type": "text"
      },
      "source": [
        "\n",
        "Using only ```numpy```, implement the function ```conv2d```.  It takes as input ```input_mat``` and ```kernel_mat``` and outputs ```output_mat```.  All variables \n",
        "are square matrices.  It should compute the convolution of ```input_mat``` with the kernel ```kernel_mat``` using valid padding.\n",
        "\n",
        "Note that the size ```s``` of the kernel matrix can also be an even number.  \n",
        "\n",
        "```\n",
        "input matrix\n",
        "\n",
        " 0  1  2  3  4 \n",
        "\n",
        " 5  6  7  8  9\n",
        " \n",
        " 0  1  2  3  4 \n",
        " \n",
        " 5  6  7  8  9\n",
        " \n",
        " 0  1  2  3  4 \n",
        "\n",
        "a) indicates the very first position in which a 2 x 2 filter is placed in the above 5 x 5 input matrix\n",
        "\n",
        "+----+\n",
        "|0  1| 2  3  4 \n",
        "|    |\n",
        "|5  6| 7  8  9\n",
        "+----+\n",
        " 0  1  2  3  4 \n",
        "\n",
        " 5  6  7  8  9\n",
        " \n",
        " 0  1  2  3  4 \n",
        "\n",
        "b) indicates the very first position in which a 3 x 3 filter is placed in the above 5 x 5 input matrix\n",
        "\n",
        "+-------+\n",
        "|0  1  2| 3  4 \n",
        "|       |\n",
        "|5  6  7| 8  9\n",
        "|       |\n",
        "|0  1  2| 3  4 \n",
        "+-------+\n",
        " 5  6  7  8  9\n",
        " \n",
        " 0  1  2  3  4 \n",
        "```\n",
        "\n"
      ]
    },
    {
      "cell_type": "code",
      "metadata": {
        "id": "C69fHGByyJLO",
        "colab_type": "code",
        "colab": {}
      },
      "source": [
        "import numpy as np\n",
        "\n",
        "class nonSquareError(Exception):\n",
        "  # matrix is the passed matrix | Code is used to determine if input or kernel matrix\n",
        "  def __init__(self, matrix, code):\n",
        "    # Input Matrix Error\n",
        "    if(code == 0):\n",
        "      print(\"Input Matrix Non-Square: Row(s) \" + str(matrix.shape[0]) + \" != Column(s) \" + str(matrix.shape[1]))\n",
        "    # Kernel Matrix Error\n",
        "    else:\n",
        "      print(\"Kernel Matrix Non-Square: Row(s) \" + str(matrix.shape[0]) + \" != Column(s) \" + str(matrix.shape[1]))\n",
        "\n",
        "class kernelTooBigError(Exception):\n",
        "  def __init__(self, matrixA, matrixB):\n",
        "    print(\"Kernel matrix is \" + str(matrixB.shape[0]) + \" which is > the input matrix: \" + str(matrixA.shape[0]))\n",
        "\n",
        "def computeKernel(input_mat, kernel_mat, row, col):\n",
        "  value = 0;\n",
        "  kernelSize = kernel_mat.shape[0]\n",
        "\n",
        "  for i in range(0, kernelSize):\n",
        "    for j in range(0, kernelSize):\n",
        "      value += kernel_mat[i][j]*input_mat[i + row][j + col] \n",
        "  return value;\n",
        "\n",
        "def conv2d(input_mat, kernel_mat):\n",
        "  if(input_mat.shape[0] != input_mat.shape[1]):\n",
        "    raise nonSquareError(input_mat, 0)\n",
        "  if(kernel_mat.shape[0] != kernel_mat.shape[1]):\n",
        "    raise nonSquareError(kernel_mat, 1)\n",
        "  if(kernel_mat.shape[0] > input_mat.shape[0]):\n",
        "    raise kernelTooBigError(input_mat, kernel_mat)\n",
        "\n",
        "  # The Output Size is (input size - kernel size +)\n",
        "  size = input_mat.shape[0] - kernel_mat.shape[0] + 1\n",
        "  #print(\"Output Size: \" + str(size) + \"x\" + str(size))\n",
        "\n",
        "  kSize = kernel_mat.shape[0]\n",
        "\n",
        "  # Flip the kernel\n",
        "  rotated_mat = np.zeros((kSize, kSize))\n",
        "  rotated_mat = np.rot90(kernel_mat,2)\n",
        "\n",
        "  # creates output matrix the size of the kerel_mat\n",
        "  output_mat = np.zeros((size,size))\n",
        "  # stores the targeted kernel into output_mat\n",
        "  for i in range(0, size):\n",
        "    for j in range(0, size):\n",
        "      compute = computeKernel(input_mat, rotated_mat, i, j)\n",
        "      output_mat[i][j] = compute\n",
        "\n",
        "  #print(\"input Matrix:\\n\" + str(input_mat))\n",
        "  return output_mat"
      ],
      "execution_count": 0,
      "outputs": []
    },
    {
      "cell_type": "markdown",
      "metadata": {
        "id": "6Zsa5_KEPQnX",
        "colab_type": "text"
      },
      "source": [
        "## Test Cases"
      ]
    },
    {
      "cell_type": "code",
      "metadata": {
        "id": "pc51WRIfO3oR",
        "colab_type": "code",
        "outputId": "d6fbc924-9492-4547-abe2-40eadc747036",
        "colab": {
          "base_uri": "https://localhost:8080/",
          "height": 772
        }
      },
      "source": [
        "from scipy import signal\n",
        "import numpy as np\n",
        "\n",
        "input_mat = []\n",
        "kernel_mat = []\n",
        "expected_mat = []\n",
        "\n",
        "# test case 1\n",
        "input_mat.append(np.array([[1, 2, 1, 2],\n",
        "                      [2, 1, 2, 1],\n",
        "                      [1, 2, 1, 2],\n",
        "                      [2, 1, 2, 1]]))\n",
        "\n",
        "kernel_mat.append(np.array([[1, 0],\n",
        "                       [0, 1]]))\n",
        "\n",
        "expected_mat.append(np.array([[2, 4, 2],\n",
        "                                [4, 2, 4],\n",
        "                                [2, 4, 2]]))\n",
        "\n",
        "# test case 2\n",
        "input_mat.append(np.array([[1, 0, 0, 0],\n",
        "                      [0, 1, 0, 0],\n",
        "                      [0, 0, 1, 0],\n",
        "                      [0, 0, 0, 1]]))\n",
        "kernel_mat.append(np.array([[1, 0], [0, 1]]))\n",
        "expected_mat.append(np.array([[2, 0, 0], [0, 2, 0], [0, 0, 2]]))\n",
        "\n",
        "\n",
        "# test case 3\n",
        "input_mat.append(np.array([[1, 0, 0, 0],\n",
        "                      [0, 1, 0, 0],\n",
        "                      [0, 0, 1, 0],\n",
        "                      [0, 0, 0, 1]]))\n",
        "kernel_mat.append(np.array([[1, -1],\n",
        "                       [-1, 0]]))\n",
        "\n",
        "expected_mat.append(np.array([[ 1, -1,  0], [-1,  1, -1],[ 0, -1,  1]]))\n",
        "\n",
        "\n",
        "# test case 4\n",
        "input_mat.append(np.array([[1, 0, 0, 0],\n",
        "                      [0, 1, 0, 0],\n",
        "                      [0, 0, 1, 0],\n",
        "                      [0, 0, 0, 1]]))\n",
        "kernel_mat.append(np.array([[1, 0, 0, 0],\n",
        "                      [0, 1, 0, 0],\n",
        "                      [0, 0, 1, 0],\n",
        "                      [0, 0, 0, 1]]))\n",
        "\n",
        "expected_mat.append(np.array([[4]]))\n",
        "\n",
        "\n",
        "# test case 5 - should either through an error, or return empty matrix\n",
        "input_mat.append(np.array([[1, -1],\n",
        "                       [-1, 0]]))\n",
        "kernel_mat.append(np.array([[1, 0, 0, 0],\n",
        "                      [0, 1, 0, 0],\n",
        "                      [0, 0, 1, 0],\n",
        "                      [0, 0, 0, 1]]))\n",
        "\n",
        "expected_mat.append([])\n",
        "\n",
        "\n",
        "\n",
        "for i in range(len(input_mat)):\n",
        "  # uncomment line for student code testing\n",
        "  output_mat = conv2d(input_mat[i], kernel_mat[i])\n",
        "\n",
        "  # uncomment lines below (and comment line above) for generating test cases.\n",
        "  if input_mat[i].shape[0] < kernel_mat[i].shape[0]:\n",
        "    output_mat = []\n",
        "  else:\n",
        "    output_mat = signal.convolve2d(input_mat[i], kernel_mat[i], mode='valid')\n",
        "\n",
        "  print(output_mat)\n",
        "  if np.array_equal(output_mat, expected_mat[i]):\n",
        "    print(\"Correct output!\\n\")\n",
        "  else:\n",
        "    print(\"Incorrect output!\\n\")"
      ],
      "execution_count": 0,
      "outputs": [
        {
          "output_type": "stream",
          "text": [
            "[[2 4 2]\n",
            " [4 2 4]\n",
            " [2 4 2]]\n",
            "Correct output!\n",
            "\n",
            "[[2 0 0]\n",
            " [0 2 0]\n",
            " [0 0 2]]\n",
            "Correct output!\n",
            "\n",
            "[[ 1 -1  0]\n",
            " [-1  1 -1]\n",
            " [ 0 -1  1]]\n",
            "Correct output!\n",
            "\n",
            "[[4]]\n",
            "Correct output!\n",
            "\n",
            "Kernel matrix is 4 which is > the input matrix: 2\n"
          ],
          "name": "stdout"
        },
        {
          "output_type": "error",
          "ename": "kernelTooBigError",
          "evalue": "ignored",
          "traceback": [
            "\u001b[0;31m---------------------------------------------------------------------------\u001b[0m",
            "\u001b[0;31mkernelTooBigError\u001b[0m                         Traceback (most recent call last)",
            "\u001b[0;32m<ipython-input-7-46ab1514dd8a>\u001b[0m in \u001b[0;36m<module>\u001b[0;34m()\u001b[0m\n\u001b[1;32m     66\u001b[0m \u001b[0;32mfor\u001b[0m \u001b[0mi\u001b[0m \u001b[0;32min\u001b[0m \u001b[0mrange\u001b[0m\u001b[0;34m(\u001b[0m\u001b[0mlen\u001b[0m\u001b[0;34m(\u001b[0m\u001b[0minput_mat\u001b[0m\u001b[0;34m)\u001b[0m\u001b[0;34m)\u001b[0m\u001b[0;34m:\u001b[0m\u001b[0;34m\u001b[0m\u001b[0;34m\u001b[0m\u001b[0m\n\u001b[1;32m     67\u001b[0m   \u001b[0;31m# uncomment line for student code testing\u001b[0m\u001b[0;34m\u001b[0m\u001b[0;34m\u001b[0m\u001b[0;34m\u001b[0m\u001b[0m\n\u001b[0;32m---> 68\u001b[0;31m   \u001b[0moutput_mat\u001b[0m \u001b[0;34m=\u001b[0m \u001b[0mconv2d\u001b[0m\u001b[0;34m(\u001b[0m\u001b[0minput_mat\u001b[0m\u001b[0;34m[\u001b[0m\u001b[0mi\u001b[0m\u001b[0;34m]\u001b[0m\u001b[0;34m,\u001b[0m \u001b[0mkernel_mat\u001b[0m\u001b[0;34m[\u001b[0m\u001b[0mi\u001b[0m\u001b[0;34m]\u001b[0m\u001b[0;34m)\u001b[0m\u001b[0;34m\u001b[0m\u001b[0;34m\u001b[0m\u001b[0m\n\u001b[0m\u001b[1;32m     69\u001b[0m \u001b[0;34m\u001b[0m\u001b[0m\n\u001b[1;32m     70\u001b[0m   \u001b[0;31m# uncomment lines below (and comment line above) for generating test cases.\u001b[0m\u001b[0;34m\u001b[0m\u001b[0;34m\u001b[0m\u001b[0;34m\u001b[0m\u001b[0m\n",
            "\u001b[0;32m<ipython-input-6-d548b7885773>\u001b[0m in \u001b[0;36mconv2d\u001b[0;34m(input_mat, kernel_mat)\u001b[0m\n\u001b[1;32m     30\u001b[0m     \u001b[0;32mraise\u001b[0m \u001b[0mnonSquareError\u001b[0m\u001b[0;34m(\u001b[0m\u001b[0mkernel_mat\u001b[0m\u001b[0;34m,\u001b[0m \u001b[0;36m1\u001b[0m\u001b[0;34m)\u001b[0m\u001b[0;34m\u001b[0m\u001b[0;34m\u001b[0m\u001b[0m\n\u001b[1;32m     31\u001b[0m   \u001b[0;32mif\u001b[0m\u001b[0;34m(\u001b[0m\u001b[0mkernel_mat\u001b[0m\u001b[0;34m.\u001b[0m\u001b[0mshape\u001b[0m\u001b[0;34m[\u001b[0m\u001b[0;36m0\u001b[0m\u001b[0;34m]\u001b[0m \u001b[0;34m>\u001b[0m \u001b[0minput_mat\u001b[0m\u001b[0;34m.\u001b[0m\u001b[0mshape\u001b[0m\u001b[0;34m[\u001b[0m\u001b[0;36m0\u001b[0m\u001b[0;34m]\u001b[0m\u001b[0;34m)\u001b[0m\u001b[0;34m:\u001b[0m\u001b[0;34m\u001b[0m\u001b[0;34m\u001b[0m\u001b[0m\n\u001b[0;32m---> 32\u001b[0;31m     \u001b[0;32mraise\u001b[0m \u001b[0mkernelTooBigError\u001b[0m\u001b[0;34m(\u001b[0m\u001b[0minput_mat\u001b[0m\u001b[0;34m,\u001b[0m \u001b[0mkernel_mat\u001b[0m\u001b[0;34m)\u001b[0m\u001b[0;34m\u001b[0m\u001b[0;34m\u001b[0m\u001b[0m\n\u001b[0m\u001b[1;32m     33\u001b[0m \u001b[0;34m\u001b[0m\u001b[0m\n\u001b[1;32m     34\u001b[0m   \u001b[0;31m# The Output Size is (input size - kernel size +)\u001b[0m\u001b[0;34m\u001b[0m\u001b[0;34m\u001b[0m\u001b[0;34m\u001b[0m\u001b[0m\n",
            "\u001b[0;31mkernelTooBigError\u001b[0m: (array([[ 1, -1],\n       [-1,  0]]), array([[1, 0, 0, 0],\n       [0, 1, 0, 0],\n       [0, 0, 1, 0],\n       [0, 0, 0, 1]]))"
          ]
        }
      ]
    },
    {
      "cell_type": "markdown",
      "metadata": {
        "colab_type": "text",
        "id": "j2Ygl9gTBYob"
      },
      "source": [
        "# Problem 2\n"
      ]
    },
    {
      "cell_type": "markdown",
      "metadata": {
        "id": "9a-BNuPQAit7",
        "colab_type": "text"
      },
      "source": [
        "Using only ```numpy```, implement the function ```maxpooling2d```. It takes as input ```input_mat``` and ```s``` and outputs ```output_mat```.\n",
        "The variables ```input_mat``` and ```output_mat``` are square matrices and ```s``` is an integer.  It should compute the maxpooling operation \n",
        "on ```input_mat``` using window of shape ```s``` times ```s```.\n",
        "\n",
        "---\n",
        "\n",
        "Make sure that you throw appropriate custom exceptions indicating the problem when the operations in Problem 1 and Problem 2 cannot be performed. \n",
        "\n",
        "The test cases are in [test_cases_for_problems_1_2_homework_4.ipynb](https://colab.research.google.com/drive/1MIoNq4_xglLesBF1kdWJelP2CmdPuYbv).\n",
        "\n",
        "---"
      ]
    },
    {
      "cell_type": "code",
      "metadata": {
        "id": "-GLDuP9BcH7J",
        "colab_type": "code",
        "colab": {}
      },
      "source": [
        "import numpy as np\n",
        "\n",
        "class nonSquareError(Exception):\n",
        "  # matrix is the passed matrix | Code is used to determine if input or kernel matrix\n",
        "  def __init__(self, matrix):\n",
        "    print(\"Input Matrix Non-Square: Row(s) \" + str(matrix.shape[0]) + \" != Column(s) \" + str(matrix.shape[1]))\n",
        "\n",
        "class kernelTooBigError(Exception):\n",
        "  def __init__(self, matrixSize, s):\n",
        "    print(\"Window S size is \" + str(s) + \" which is > the input matrix size: \" + str(matrixSize))\n",
        "\n",
        "def computeMaxPool(input_mat, s, x, y):\n",
        "  maxVal = 0;\n",
        "  iSize = input_mat.size[0];\n",
        "\n",
        "  for i in range(0, s):\n",
        "    for j in range(0, s):\n",
        "      if(i + x < iSize and j + y < iSize):\n",
        "        temp = input_mat[i + x][j + y]\n",
        "        if(maxVal < temp):\n",
        "          maxVal = temp \n",
        "\n",
        "  return maxVal  \n",
        "\n",
        "\n",
        "def maxpooling2d(input_mat, s):\n",
        "  if(input_mat.shape[0] != input_mat.shape[1]):\n",
        "    raise nonSquareError(input_mat)\n",
        "  if(s > input_mat.shape[0]):\n",
        "    raise kernelTooBigError(input_mat.shape[0], s)\n",
        "\n",
        "  iSize = input_mat.shape[0]; \n",
        "  output_mat = np.zeros((s,s))\n",
        "\n",
        "  for i in range(0, iSize, s):\n",
        "    for j in range(0, iSize, s):\n",
        "      compute = computeMaxPool(input_mat, s, i, j)\n",
        "      output_mat[int(i/2)][int(j/2)] = compute\n",
        "  return output_mat"
      ],
      "execution_count": 0,
      "outputs": []
    },
    {
      "cell_type": "markdown",
      "metadata": {
        "id": "ZLUWTaYZVkVl",
        "colab_type": "text"
      },
      "source": [
        "## Test Cases"
      ]
    },
    {
      "cell_type": "code",
      "metadata": {
        "id": "o7ND0UeTRrBJ",
        "colab_type": "code",
        "outputId": "bfebc280-3dc4-4ae1-f633-7d6d6a7ac1e5",
        "colab": {
          "base_uri": "https://localhost:8080/",
          "height": 141
        }
      },
      "source": [
        "import skimage.measure\n",
        "\n",
        "input_mat = []\n",
        "expected_mat = []\n",
        "s = []\n",
        "input_mat.append(np.array([[1, 2, 1, 2],\n",
        "                      [2, 4, 2, 1],\n",
        "                      [1, 2, 4, 2],\n",
        "                      [2, 1, 2, 1]]))\n",
        "s.append(2)\n",
        "\n",
        "expected_mat.append(np.array([[4, 2],\n",
        "                                [2, 4]]))\n",
        "\n",
        "input_mat.append(np.array([[1, 2, 1, 2, 4, 5],\n",
        "                      [2, 4, 2, 1, 0, 3],\n",
        "                      [1, 2, 4, 2, 4, 5],\n",
        "                      [2, 1, 2, 1, 2, 1],\n",
        "                      [1, 1, 2, 3, 1, 2],\n",
        "                      [1, 1, 2, 3, 1, 2]]))\n",
        "s.append(2)\n",
        "\n",
        "expected_mat.append([[4, 2, 5],\n",
        " [2, 4, 5],\n",
        " [1, 3, 2]])\n",
        "\n",
        "\n",
        "for i in range(len(input_mat)):\n",
        "  # uncomment top line and comment second line to test code\n",
        "  #output_mat = maxpooling2d(input_mat[i], s[i])\n",
        "  output_mat = skimage.measure.block_reduce(input_mat[i], (s[i],s[i]), np.max)\n",
        "\n",
        "  print(output_mat)\n",
        "\n",
        "  if np.array_equal(output_mat, expected_mat[i]):\n",
        "    print(\"Correct output!\")\n",
        "  else:\n",
        "    print(\"Incorrect output!\")"
      ],
      "execution_count": 0,
      "outputs": [
        {
          "output_type": "stream",
          "text": [
            "[[4 2]\n",
            " [2 4]]\n",
            "Correct output!\n",
            "[[4 2 5]\n",
            " [2 4 5]\n",
            " [1 3 2]]\n",
            "Correct output!\n"
          ],
          "name": "stdout"
        }
      ]
    }
  ]
}