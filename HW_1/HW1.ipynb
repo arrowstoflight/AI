{
  "nbformat": 4,
  "nbformat_minor": 0,
  "metadata": {
    "colab": {
      "name": "HW1.ipynb",
      "provenance": [],
      "authorship_tag": "ABX9TyO4Zj69QCPOCSv0ONrMtuR3",
      "include_colab_link": true
    },
    "kernelspec": {
      "name": "python3",
      "display_name": "Python 3"
    },
    "accelerator": "GPU"
  },
  "cells": [
    {
      "cell_type": "markdown",
      "metadata": {
        "id": "view-in-github",
        "colab_type": "text"
      },
      "source": [
        "<a href=\"https://colab.research.google.com/github/arrowstoflight/AI/blob/master/HW_1/HW1.ipynb\" target=\"_parent\"><img src=\"https://colab.research.google.com/assets/colab-badge.svg\" alt=\"Open In Colab\"/></a>"
      ]
    },
    {
      "cell_type": "code",
      "metadata": {
        "id": "HfXzw3FRpyZs",
        "colab_type": "code",
        "outputId": "418ae7cc-3d40-4fc7-8f30-4a51d27ba277",
        "colab": {
          "base_uri": "https://localhost:8080/",
          "height": 68
        }
      },
      "source": [
        "import numpy as np\n",
        "\n",
        "# Problem - Sequentially Multiply a List of Numpy Arrays [$M_1$,M2,M3,...,MN]\n",
        "def multiply_matrices(q):\n",
        "  length = len(q)\n",
        "  print('Passed a matrix list of length: ' + str(length))\n",
        "  #check to see if we are passed 0 or 1 matrix\n",
        "  if len(q) == 1 or len(q) == 0:\n",
        "    return q\n",
        "  # If we are passed 2 matrices then multiply them and return\n",
        "  elif len(q) == 2:\n",
        "    newMatrixA = q.pop(0)\n",
        "    newMatrixB = q.pop(0)\n",
        "    return np.mat(newMatrixA, newMatrixB)\n",
        "\n",
        "  # Start the multiplication chain\n",
        "  newMatrixA = q.pop(0)\n",
        "  newMatrixB = q.pop(0)\n",
        "  newMatrixResult = np.matmul(newMatrixA, newMatrixB)\n",
        "  # Continue multiplying till we get to the end of the list\n",
        "  while (len(q) != 0):\n",
        "    newMatrixB = q.pop(0)\n",
        "    newMatrixResult = np.matmul(newMatrixResult, newMatrixB)\n",
        "\n",
        "  return newMatrixResult\n",
        "  print(\"hi\")\n",
        "\n",
        "# Run the function\n",
        "a = np.array([[1, 2],[3, 4]])\n",
        "b = np.array([[2, 3],[4,5]])\n",
        "c = np.array([[3, 4],[5, 6]])\n",
        "d = np.array([[4, 5],[6,7]])\n",
        "z = [a,b,c,d]\n",
        "answer = multiply_matrices(z)\n",
        "print(answer)"
      ],
      "execution_count": 30,
      "outputs": [
        {
          "output_type": "stream",
          "text": [
            "Passed a matrix list of length: 4\n",
            "[[1088 1301]\n",
            " [2416 2889]]\n"
          ],
          "name": "stdout"
        }
      ]
    }
  ]
}