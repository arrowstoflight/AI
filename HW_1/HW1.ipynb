{
  "nbformat": 4,
  "nbformat_minor": 0,
  "metadata": {
    "colab": {
      "name": "HW1.ipynb",
      "provenance": [],
      "include_colab_link": true
    },
    "kernelspec": {
      "name": "python3",
      "display_name": "Python 3"
    },
    "accelerator": "GPU"
  },
  "cells": [
    {
      "cell_type": "markdown",
      "metadata": {
        "id": "view-in-github",
        "colab_type": "text"
      },
      "source": [
        "<a href=\"https://colab.research.google.com/github/arrowstoflight/AI/blob/master/HW_1/HW1.ipynb\" target=\"_parent\"><img src=\"https://colab.research.google.com/assets/colab-badge.svg\" alt=\"Open In Colab\"/></a>"
      ]
    },
    {
      "cell_type": "markdown",
      "metadata": {
        "id": "BVD2wH6kFihz",
        "colab_type": "text"
      },
      "source": [
        "Dustin White\n",
        "\n",
        "CAP4630 - Artificial Intelligence\n",
        "\n",
        "Professor Wocjan\n",
        "\n",
        "20 January 2020\n",
        "\n",
        "Multiply Numpy Matrices "
      ]
    },
    {
      "cell_type": "code",
      "metadata": {
        "id": "HfXzw3FRpyZs",
        "colab_type": "code",
        "outputId": "5f02d681-5123-4f7b-fe47-7efbb08d1caf",
        "colab": {
          "base_uri": "https://localhost:8080/",
          "height": 425
        }
      },
      "source": [
        "import numpy as np\n",
        "\n",
        "class MatrixError(Exception):\n",
        "  def __init__(self, matrixA, matrixB):\n",
        "    self.matrixA = matrixA\n",
        "    self.matrixB = matrixB\n",
        "    print(\"Error: Matrix A Columns are not equal to Matrix B\\nMatrix A:\\n\" + str(matrixA) + \"\\nMatrix B:\\n\" + str(matrixB))\n",
        "    print(\"Column: \" + str(matrixA.shape[1]) + \" != Row: \" + str(matrixB.shape[0]))\n",
        "\n",
        "class EmptyListError(Exception):\n",
        "  def __init__(self, matrix):\n",
        "    self.matrix = matrix\n",
        "    print(\"Error: Passed an empty list\")\n",
        "\n",
        "\n",
        "# row x column; in order to multiply: colA must equal row B\n",
        "def check_matrices(a, b):\n",
        "  if(a.shape[1] == b.shape[0]):\n",
        "    return True\n",
        "  else:\n",
        "    raise MatrixError(a,b)\n",
        "    return False\n",
        "\n",
        "# Problem - Sequentially Multiply a List of Numpy Arrays [$M_1$,M2,M3,...,MN]\n",
        "def multiply_matrices(q):\n",
        "  length = len(q)\n",
        "\n",
        "  # Check to see if we are passed an empty list\n",
        "  if len(q) == 0:\n",
        "     raise EmptyListError(q)\n",
        "     return q\n",
        "  # If the length is 1 just return it  \n",
        "  if len(q) == 1:\n",
        "    return q\n",
        "  # If we are passed 2 matrices then multiply them and return\n",
        "  elif len(q) == 2:\n",
        "    newMatrixA = q.pop(0)\n",
        "    newMatrixB = q.pop(0)\n",
        "    check_matrices(newMatrixA,newMatrixB)\n",
        "    return np.matmul(newMatrixA, newMatrixB)\n",
        "\n",
        "  # Else Start the multiplication chain\n",
        "  newMatrixA = q.pop(0)\n",
        "  newMatrixB = q.pop(0)\n",
        "  check_matrices(newMatrixA,newMatrixB)\n",
        "  newMatrixResult = np.matmul(newMatrixA, newMatrixB)\n",
        "  # Continue multiplying till we get to the end of the list\n",
        "  while (len(q) != 0):\n",
        "    newMatrixB = q.pop(0)\n",
        "    check_matrices(newMatrixResult,newMatrixB)\n",
        "    newMatrixResult = np.matmul(newMatrixResult, newMatrixB)\n",
        "\n",
        "  return newMatrixResult\n",
        "\n",
        "# Main\n",
        "a = np.array([[1, 2],[3, 4],[6,6]])\n",
        "b = np.array([[2, 3],[4,5]])\n",
        "c = np.array([[3, 4, 1, 1],[5, 6, 1, 1],[3, 4, 1, 1]])\n",
        "d = np.array([[4, 5],[6,7]])\n",
        "x = [a,b,d]\n",
        "y = [a,b,c]\n",
        "z = []\n",
        "\n",
        "# EXAMPLE 1 - Correct Multiplication\n",
        "try:\n",
        "  # Run the function and store it in answer\n",
        "  answerX = multiply_matrices(x)\n",
        "except MatrixError as e:\n",
        "  pass\n",
        "except EmptyListError as e:\n",
        "  pass\n",
        "else:\n",
        "  print(\"Multiplication answer: \\n\" + str(answerX))\n",
        "print(\"\\n\\n\")\n",
        "\n",
        "# EXAMPLE 2 - Incompatible Matrices\n",
        "try:\n",
        "  # Run the function and store it in answer\n",
        "  answerY = multiply_matrices(y)\n",
        "except MatrixError as e:\n",
        "  pass\n",
        "except EmptyListError as e:\n",
        "  pass\n",
        "else:\n",
        "  print(\"Multiplication answer: \\n\" + str(answerY))\n",
        "print(\"\\n\\n\")\n",
        "\n",
        "# EXAMPLE 3 - Empty List\n",
        "try:\n",
        "  # Run the function and store it in answer\n",
        "  answerZ = multiply_matrices(z)\n",
        "except MatrixError as e:\n",
        "  pass\n",
        "except EmptyListError as e:\n",
        "  pass\n",
        "else:\n",
        "  print(\"Multiplication answer: \\n\" + str(answerY))\n",
        "print(\"\\n\\n\")"
      ],
      "execution_count": 0,
      "outputs": [
        {
          "output_type": "stream",
          "text": [
            "Multiplication answer: \n",
            "[[118 141]\n",
            " [262 313]\n",
            " [432 516]]\n",
            "\n",
            "\n",
            "\n",
            "Error: Matrix A Columns are not equal to Matrix B\n",
            "Matrix A:\n",
            "[[10 13]\n",
            " [22 29]\n",
            " [36 48]]\n",
            "Matrix B:\n",
            "[[3 4 1 1]\n",
            " [5 6 1 1]\n",
            " [3 4 1 1]]\n",
            "Column: 2 != Row: 3\n",
            "\n",
            "\n",
            "\n",
            "Error: Passed an empty list\n",
            "\n",
            "\n",
            "\n"
          ],
          "name": "stdout"
        }
      ]
    },
    {
      "cell_type": "markdown",
      "metadata": {
        "id": "zAEWvupzFeli",
        "colab_type": "text"
      },
      "source": [
        ""
      ]
    }
  ]
}