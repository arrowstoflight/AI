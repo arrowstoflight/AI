{
  "nbformat": 4,
  "nbformat_minor": 0,
  "metadata": {
    "colab": {
      "name": "HW1.ipynb",
      "provenance": [],
      "authorship_tag": "ABX9TyNqYVKDZriKX+vVlQfj99bG",
      "include_colab_link": true
    },
    "kernelspec": {
      "name": "python3",
      "display_name": "Python 3"
    },
    "accelerator": "GPU"
  },
  "cells": [
    {
      "cell_type": "markdown",
      "metadata": {
        "id": "view-in-github",
        "colab_type": "text"
      },
      "source": [
        "<a href=\"https://colab.research.google.com/github/arrowstoflight/AI/blob/master/HW_1/HW1.ipynb\" target=\"_parent\"><img src=\"https://colab.research.google.com/assets/colab-badge.svg\" alt=\"Open In Colab\"/></a>"
      ]
    },
    {
      "cell_type": "code",
      "metadata": {
        "id": "HfXzw3FRpyZs",
        "colab_type": "code",
        "outputId": "11edefce-80a5-4766-b662-684f8db24b51",
        "colab": {
          "base_uri": "https://localhost:8080/",
          "height": 204
        }
      },
      "source": [
        "# Dustin White\n",
        "# COP4520 - Machine Learning\n",
        "# Professor Wocjan\n",
        "# 20 January 2020\n",
        "# Multiply Numpy Matrices \n",
        "\n",
        "import numpy as np\n",
        "import sys\n",
        "\n",
        "# row x column; in order to multiply: colA must equal row B\n",
        "def check_matrices(a, b):\n",
        "  if(a.shape[1] == b.shape[0]):\n",
        "    return True\n",
        "  else:\n",
        "    ex = matrixError()\n",
        "    ex.matrixA= a;\n",
        "    ex.matrixB = b;\n",
        "    raise ex\n",
        "    return False\n",
        "\n",
        "# Problem - Sequentially Multiply a List of Numpy Arrays [$M_1$,M2,M3,...,MN]\n",
        "def multiply_matrices(q):\n",
        "  length = len(q)\n",
        "\n",
        "  # Check to see if we are passed an empty list\n",
        "  if len(q) == 0:\n",
        "     raise emptyListError\n",
        "     return q\n",
        "  # If the length is 1 just return it  \n",
        "  if len(q) == 1:\n",
        "    return q\n",
        "  # If we are passed 2 matrices then multiply them and return\n",
        "  elif len(q) == 2:\n",
        "    newMatrixA = q.pop(0)\n",
        "    newMatrixB = q.pop(0)\n",
        "    check_matrices(newMatrixA,newMatrixB)\n",
        "    return np.matmul(newMatrixA, newMatrixB)\n",
        "\n",
        "  # Else Start the multiplication chain\n",
        "  newMatrixA = q.pop(0)\n",
        "  newMatrixB = q.pop(0)\n",
        "  check_matrices(newMatrixA,newMatrixB)\n",
        "  newMatrixResult = np.matmul(newMatrixA, newMatrixB)\n",
        "  # Continue multiplying till we get to the end of the list\n",
        "  while (len(q) != 0):\n",
        "    newMatrixB = q.pop(0)\n",
        "    check_matrices(newMatrixResult,newMatrixB)\n",
        "    newMatrixResult = np.matmul(newMatrixResult, newMatrixB)\n",
        "\n",
        "  return newMatrixResult\n",
        "\n",
        "# Guess this is main?\n",
        "a = np.array([[1, 2],[3, 4],[6,6]])\n",
        "b = np.array([[2, 3],[4,5]])\n",
        "c = np.array([[3, 4, 1, 1],[5, 6, 1, 1],[3, 4, 1, 1]])\n",
        "d = np.array([[4, 5],[6,7]])\n",
        "z = [a,b,c]\n",
        "try:\n",
        "  # Run the function and store it in answer\n",
        "  answer = multiply_matrices(z)\n",
        "except emptyListError:\n",
        "  print(\"Error: Passed an empty list\")\n",
        "except matrixError as e:\n",
        "  print(\"Error: Matrix A Columns are not equal to Matrix B\\nMatrix A:\\n\" + str(e.matrixA) + \"\\nMatrix B:\\n\" + str(e.matrixB))\n",
        "  print(\"\\nColumn: \" + str(e.matrixA.shape[1]) + \" != Row: \" + str(e.matrixB.shape[0]))\n",
        "else:\n",
        "  print(answer)"
      ],
      "execution_count": 49,
      "outputs": [
        {
          "output_type": "stream",
          "text": [
            "Error: Matrix A Columns are not equal to Matrix B\n",
            "Matrix A:\n",
            "[[10 13]\n",
            " [22 29]\n",
            " [36 48]]\n",
            "Matrix B:\n",
            "[[3 4 1 1]\n",
            " [5 6 1 1]\n",
            " [3 4 1 1]]\n",
            "\n",
            "Column: 2 != Row: 3\n"
          ],
          "name": "stdout"
        }
      ]
    }
  ]
}